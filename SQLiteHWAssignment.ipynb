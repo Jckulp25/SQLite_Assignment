{
 "cells": [
  {
   "cell_type": "code",
   "execution_count": 154,
   "id": "c7daa31b-3b19-4588-8d48-981ba8514742",
   "metadata": {},
   "outputs": [
    {
     "name": "stdout",
     "output_type": "stream",
     "text": [
      "Database created and connected!\n"
     ]
    }
   ],
   "source": [
    "import sqlite3\n",
    "import pandas as pd\n",
    "import matplotlib.pyplot as plt\n",
    "# Create or connect to an SQLite database\n",
    "conn = sqlite3.connect('student_grades.db')\n",
    "\n",
    "# Check if the connection was successful\n",
    "print(\"Database created and connected!\")"
   ]
  },
  {
   "cell_type": "code",
   "execution_count": 156,
   "id": "648f107f-32f3-4c68-a5de-467e258a892a",
   "metadata": {},
   "outputs": [
    {
     "name": "stdout",
     "output_type": "stream",
     "text": [
      "Cursor Created\n"
     ]
    }
   ],
   "source": [
    "# Create a cursor object to execute SQL queries\n",
    "cursor = conn.cursor()\n",
    "\n",
    "print(\"Cursor Created\")"
   ]
  },
  {
   "cell_type": "code",
   "execution_count": 158,
   "id": "6e26872d-7288-4abd-b630-3787a5292598",
   "metadata": {},
   "outputs": [],
   "source": [
    "cursor.execute(\"DROP TABLE IF EXISTS students;\")\n",
    "conn.commit()"
   ]
  },
  {
   "cell_type": "code",
   "execution_count": 160,
   "id": "274916ac-bfb1-4c91-b5b9-da17127a9ec8",
   "metadata": {},
   "outputs": [
    {
     "name": "stdout",
     "output_type": "stream",
     "text": [
      "Students table created\n"
     ]
    }
   ],
   "source": [
    "# Create the students table if it doesn't exist\n",
    "cursor.execute('''CREATE TABLE IF NOT EXISTS students \n",
    "(student_id INTEGER PRIMARY KEY,\n",
    "first_name TEXT,\n",
    "last_name TEXT)''')\n",
    "\n",
    "conn.commit()\n",
    "\n",
    "print(\"Students table created\")"
   ]
  },
  {
   "cell_type": "code",
   "execution_count": 162,
   "id": "9f94d911-3fa4-417a-bd16-c9aa57f823c6",
   "metadata": {},
   "outputs": [],
   "source": [
    "cursor.execute(\"DROP TABLE IF EXISTS grades;\")\n",
    "conn.commit()"
   ]
  },
  {
   "cell_type": "code",
   "execution_count": 164,
   "id": "eab14387-2718-4ce4-9b95-770524b457ad",
   "metadata": {},
   "outputs": [
    {
     "name": "stdout",
     "output_type": "stream",
     "text": [
      "Grades table created!\n"
     ]
    }
   ],
   "source": [
    "# Create the grades table\n",
    "cursor.execute('''\n",
    "CREATE TABLE IF NOT EXISTS grades (\n",
    "    grade_id INTEGER Primary Key,\n",
    "    student_id INTEGER,\n",
    "    subject TEXT,\n",
    "    grade Integer\n",
    ")\n",
    "''')\n",
    "\n",
    "print(\"Grades table created!\")"
   ]
  },
  {
   "cell_type": "code",
   "execution_count": 166,
   "id": "04da08a5-592a-45b0-a86d-04c0297472cb",
   "metadata": {},
   "outputs": [
    {
     "name": "stdout",
     "output_type": "stream",
     "text": [
      "Data inserted into the students table\n"
     ]
    }
   ],
   "source": [
    "students_data = [\n",
    "    (1, 'Alice', 'Johnson'), \n",
    "    (2, 'Bob', 'Smith'), \n",
    "    (3, 'Carol', 'White'), \n",
    "    (4, 'David', 'Brown'), \n",
    "    (5, 'Eve', 'Davis')]\n",
    "\n",
    "#insert data into the table\n",
    "cursor.executemany('''\n",
    "INSERT INTO students (student_id, first_name, last_name) VALUES(?, ?, ?)\n",
    "''', students_data)\n",
    "\n",
    "#commit the transation\n",
    "conn.commit()\n",
    "\n",
    "print(\"Data inserted into the students table\")"
   ]
  },
  {
   "cell_type": "code",
   "execution_count": 168,
   "id": "d748a310-aa26-4dc0-8323-a31c031d926a",
   "metadata": {},
   "outputs": [
    {
     "name": "stdout",
     "output_type": "stream",
     "text": [
      "Data inserted into the grades table\n"
     ]
    }
   ],
   "source": [
    "grades_data = [\n",
    "    (1, 'Math', 90), \n",
    "    (1, 'English', 87), \n",
    "    (1, 'History', 87), \n",
    "    (2, 'Math', 91),\n",
    "    (2, 'English', 88),\n",
    "    (2, 'History', 83),\n",
    "    (3, 'Math', 79),\n",
    "    (3, 'English', 80),\n",
    "    (3, 'History', 75),\n",
    "    (4, 'Math', 96),\n",
    "    (4, 'English', 91),\n",
    "    (4, 'History', 90),\n",
    "    (5, 'Math', 89),\n",
    "    (5, 'English', 82),\n",
    "    (5, 'History', 84)]\n",
    "\n",
    "#insert data into the table\n",
    "cursor.executemany('''\n",
    "INSERT INTO grades ( student_id, subject, grade) VALUES(?, ?, ?)\n",
    "''', grades_data)\n",
    "\n",
    "#commit the transation\n",
    "conn.commit()\n",
    "\n",
    "print(\"Data inserted into the grades table\")"
   ]
  },
  {
   "cell_type": "code",
   "execution_count": 170,
   "id": "986d1451-369e-4ae3-b03f-9fc9b74f1b1c",
   "metadata": {},
   "outputs": [
    {
     "name": "stdout",
     "output_type": "stream",
     "text": [
      "All Students data:\n",
      "('Alice', 'Johnson', 90)\n",
      "('Alice', 'Johnson', 87)\n",
      "('Alice', 'Johnson', 87)\n",
      "('Bob', 'Smith', 91)\n",
      "('Bob', 'Smith', 88)\n",
      "('Bob', 'Smith', 83)\n",
      "('Carol', 'White', 79)\n",
      "('Carol', 'White', 80)\n",
      "('Carol', 'White', 75)\n",
      "('David', 'Brown', 96)\n",
      "('David', 'Brown', 91)\n",
      "('David', 'Brown', 90)\n",
      "('Eve', 'Davis', 89)\n",
      "('Eve', 'Davis', 82)\n",
      "('Eve', 'Davis', 84)\n"
     ]
    }
   ],
   "source": [
    "# Fetch all data from the sales table\n",
    "cursor.execute(\"SELECT students.first_name, students.last_name, grades.grade FROM students JOIN grades ON students.student_id = grades.student_id \")\n",
    "rows = cursor.fetchall()\n",
    "\n",
    "# Print the results\n",
    "print(\"All Students data:\")\n",
    "for row in rows:\n",
    "    print(row)"
   ]
  },
  {
   "cell_type": "code",
   "execution_count": 172,
   "id": "4c28a450-5377-491d-aac1-996739e2ca45",
   "metadata": {},
   "outputs": [
    {
     "name": "stdout",
     "output_type": "stream",
     "text": [
      "Student Average Grade:\n",
      "('Alice', 'Johnson', 88.0)\n",
      "('Bob', 'Smith', 87.33333333333333)\n",
      "('Carol', 'White', 78.0)\n",
      "('David', 'Brown', 92.33333333333333)\n",
      "('Eve', 'Davis', 85.0)\n"
     ]
    }
   ],
   "source": [
    "cursor.execute(\"SELECT students.first_name, students.last_name, AVG(grades.grade) AS average_grade FROM students JOIN grades ON students.student_id = grades.student_id GROUP BY students.first_name, students.last_name\")\n",
    "rows = cursor.fetchall()\n",
    "\n",
    "print(\"Student Average Grade:\")\n",
    "for row in rows:\n",
    "    print(row)"
   ]
  },
  {
   "cell_type": "code",
   "execution_count": 174,
   "id": "acf55f99-bd89-488f-adb4-807efed8558c",
   "metadata": {},
   "outputs": [
    {
     "name": "stdout",
     "output_type": "stream",
     "text": [
      "Student with the highest grade: David Brown\n"
     ]
    }
   ],
   "source": [
    "cursor.execute('''\n",
    "SELECT students.first_name, students.last_name, AVG(grades.grade) AS average_grade FROM students\n",
    "JOIN grades ON students.student_id = grades.student_id\n",
    "GROUP BY students.first_name, students.last_name\n",
    "ORDER BY average_grade DESC\n",
    "LIMIT 1\n",
    "''')\n",
    "highest_avg_grade = cursor.fetchone()\n",
    "\n",
    "# Display the result\n",
    "print(f\"Student with the highest grade: {highest_avg_grade[0]} {highest_avg_grade[1]}\")"
   ]
  },
  {
   "cell_type": "code",
   "execution_count": 176,
   "id": "e1283309-4c66-4e93-a5ce-55302e6640bc",
   "metadata": {},
   "outputs": [
    {
     "name": "stdout",
     "output_type": "stream",
     "text": [
      "The average math grade is: 89.0\n"
     ]
    }
   ],
   "source": [
    "cursor.execute('''\n",
    "SELECT AVG(grades.grade) AS average_grade FROM students\n",
    "JOIN grades ON students.student_id = grades.student_id\n",
    "WHERE grades.subject LIKE 'Math'\n",
    "''')\n",
    "average_math_grade = cursor.fetchone()\n",
    "\n",
    "# Display the result\n",
    "print(f\"The average math grade is: {average_math_grade[0]}\")"
   ]
  },
  {
   "cell_type": "code",
   "execution_count": 178,
   "id": "b490d421-2d9b-4081-97cc-33ee553d785a",
   "metadata": {},
   "outputs": [
    {
     "name": "stdout",
     "output_type": "stream",
     "text": [
      "All Above 90 data:\n",
      "('Bob', 'Smith', 91)\n",
      "('David', 'Brown', 96)\n"
     ]
    }
   ],
   "source": [
    "cursor.execute('''SELECT students.first_name, students.last_name, MAX(grades.grade) AS best_grade FROM students\n",
    "JOIN grades ON students.student_id = grades.student_id\n",
    "WHERE grades.grade > 90\n",
    "GROUP BY students.first_name, students.last_name''')\n",
    "rows = cursor.fetchall()\n",
    "\n",
    "# Print the results\n",
    "print(\"All Above 90 data:\")\n",
    "for row in rows:\n",
    "    print(row)"
   ]
  },
  {
   "cell_type": "code",
   "execution_count": 180,
   "id": "9da25a27-40df-46ce-a29b-d4709c36c1b7",
   "metadata": {},
   "outputs": [
    {
     "data": {
      "text/html": [
       "<div>\n",
       "<style scoped>\n",
       "    .dataframe tbody tr th:only-of-type {\n",
       "        vertical-align: middle;\n",
       "    }\n",
       "\n",
       "    .dataframe tbody tr th {\n",
       "        vertical-align: top;\n",
       "    }\n",
       "\n",
       "    .dataframe thead th {\n",
       "        text-align: right;\n",
       "    }\n",
       "</style>\n",
       "<table border=\"1\" class=\"dataframe\">\n",
       "  <thead>\n",
       "    <tr style=\"text-align: right;\">\n",
       "      <th></th>\n",
       "      <th>student_id</th>\n",
       "      <th>first_name</th>\n",
       "      <th>last_name</th>\n",
       "    </tr>\n",
       "  </thead>\n",
       "  <tbody>\n",
       "    <tr>\n",
       "      <th>0</th>\n",
       "      <td>1</td>\n",
       "      <td>Alice</td>\n",
       "      <td>Johnson</td>\n",
       "    </tr>\n",
       "    <tr>\n",
       "      <th>1</th>\n",
       "      <td>2</td>\n",
       "      <td>Bob</td>\n",
       "      <td>Smith</td>\n",
       "    </tr>\n",
       "    <tr>\n",
       "      <th>2</th>\n",
       "      <td>3</td>\n",
       "      <td>Carol</td>\n",
       "      <td>White</td>\n",
       "    </tr>\n",
       "    <tr>\n",
       "      <th>3</th>\n",
       "      <td>4</td>\n",
       "      <td>David</td>\n",
       "      <td>Brown</td>\n",
       "    </tr>\n",
       "    <tr>\n",
       "      <th>4</th>\n",
       "      <td>5</td>\n",
       "      <td>Eve</td>\n",
       "      <td>Davis</td>\n",
       "    </tr>\n",
       "  </tbody>\n",
       "</table>\n",
       "</div>"
      ],
      "text/plain": [
       "   student_id first_name last_name\n",
       "0           1      Alice   Johnson\n",
       "1           2        Bob     Smith\n",
       "2           3      Carol     White\n",
       "3           4      David     Brown\n",
       "4           5        Eve     Davis"
      ]
     },
     "execution_count": 180,
     "metadata": {},
     "output_type": "execute_result"
    }
   ],
   "source": [
    "students = pd.read_sql_query('''\n",
    "SELECT * FROM students\n",
    "''', conn)\n",
    "students"
   ]
  },
  {
   "cell_type": "code",
   "execution_count": 182,
   "id": "f1e1c73a-6493-4443-859a-dbaf763d01a6",
   "metadata": {},
   "outputs": [
    {
     "data": {
      "text/html": [
       "<div>\n",
       "<style scoped>\n",
       "    .dataframe tbody tr th:only-of-type {\n",
       "        vertical-align: middle;\n",
       "    }\n",
       "\n",
       "    .dataframe tbody tr th {\n",
       "        vertical-align: top;\n",
       "    }\n",
       "\n",
       "    .dataframe thead th {\n",
       "        text-align: right;\n",
       "    }\n",
       "</style>\n",
       "<table border=\"1\" class=\"dataframe\">\n",
       "  <thead>\n",
       "    <tr style=\"text-align: right;\">\n",
       "      <th></th>\n",
       "      <th>grade_id</th>\n",
       "      <th>student_id</th>\n",
       "      <th>subject</th>\n",
       "      <th>grade</th>\n",
       "    </tr>\n",
       "  </thead>\n",
       "  <tbody>\n",
       "    <tr>\n",
       "      <th>0</th>\n",
       "      <td>1</td>\n",
       "      <td>1</td>\n",
       "      <td>Math</td>\n",
       "      <td>90</td>\n",
       "    </tr>\n",
       "    <tr>\n",
       "      <th>1</th>\n",
       "      <td>2</td>\n",
       "      <td>1</td>\n",
       "      <td>English</td>\n",
       "      <td>87</td>\n",
       "    </tr>\n",
       "    <tr>\n",
       "      <th>2</th>\n",
       "      <td>3</td>\n",
       "      <td>1</td>\n",
       "      <td>History</td>\n",
       "      <td>87</td>\n",
       "    </tr>\n",
       "    <tr>\n",
       "      <th>3</th>\n",
       "      <td>4</td>\n",
       "      <td>2</td>\n",
       "      <td>Math</td>\n",
       "      <td>91</td>\n",
       "    </tr>\n",
       "    <tr>\n",
       "      <th>4</th>\n",
       "      <td>5</td>\n",
       "      <td>2</td>\n",
       "      <td>English</td>\n",
       "      <td>88</td>\n",
       "    </tr>\n",
       "    <tr>\n",
       "      <th>5</th>\n",
       "      <td>6</td>\n",
       "      <td>2</td>\n",
       "      <td>History</td>\n",
       "      <td>83</td>\n",
       "    </tr>\n",
       "    <tr>\n",
       "      <th>6</th>\n",
       "      <td>7</td>\n",
       "      <td>3</td>\n",
       "      <td>Math</td>\n",
       "      <td>79</td>\n",
       "    </tr>\n",
       "    <tr>\n",
       "      <th>7</th>\n",
       "      <td>8</td>\n",
       "      <td>3</td>\n",
       "      <td>English</td>\n",
       "      <td>80</td>\n",
       "    </tr>\n",
       "    <tr>\n",
       "      <th>8</th>\n",
       "      <td>9</td>\n",
       "      <td>3</td>\n",
       "      <td>History</td>\n",
       "      <td>75</td>\n",
       "    </tr>\n",
       "    <tr>\n",
       "      <th>9</th>\n",
       "      <td>10</td>\n",
       "      <td>4</td>\n",
       "      <td>Math</td>\n",
       "      <td>96</td>\n",
       "    </tr>\n",
       "    <tr>\n",
       "      <th>10</th>\n",
       "      <td>11</td>\n",
       "      <td>4</td>\n",
       "      <td>English</td>\n",
       "      <td>91</td>\n",
       "    </tr>\n",
       "    <tr>\n",
       "      <th>11</th>\n",
       "      <td>12</td>\n",
       "      <td>4</td>\n",
       "      <td>History</td>\n",
       "      <td>90</td>\n",
       "    </tr>\n",
       "    <tr>\n",
       "      <th>12</th>\n",
       "      <td>13</td>\n",
       "      <td>5</td>\n",
       "      <td>Math</td>\n",
       "      <td>89</td>\n",
       "    </tr>\n",
       "    <tr>\n",
       "      <th>13</th>\n",
       "      <td>14</td>\n",
       "      <td>5</td>\n",
       "      <td>English</td>\n",
       "      <td>82</td>\n",
       "    </tr>\n",
       "    <tr>\n",
       "      <th>14</th>\n",
       "      <td>15</td>\n",
       "      <td>5</td>\n",
       "      <td>History</td>\n",
       "      <td>84</td>\n",
       "    </tr>\n",
       "  </tbody>\n",
       "</table>\n",
       "</div>"
      ],
      "text/plain": [
       "    grade_id  student_id  subject  grade\n",
       "0          1           1     Math     90\n",
       "1          2           1  English     87\n",
       "2          3           1  History     87\n",
       "3          4           2     Math     91\n",
       "4          5           2  English     88\n",
       "5          6           2  History     83\n",
       "6          7           3     Math     79\n",
       "7          8           3  English     80\n",
       "8          9           3  History     75\n",
       "9         10           4     Math     96\n",
       "10        11           4  English     91\n",
       "11        12           4  History     90\n",
       "12        13           5     Math     89\n",
       "13        14           5  English     82\n",
       "14        15           5  History     84"
      ]
     },
     "execution_count": 182,
     "metadata": {},
     "output_type": "execute_result"
    }
   ],
   "source": [
    "grades = pd.read_sql_query('''\n",
    "SELECT * FROM grades\n",
    "''', conn)\n",
    "grades"
   ]
  },
  {
   "cell_type": "code",
   "execution_count": 184,
   "id": "4d685c06-f0ec-4de4-871e-a720af0c5b15",
   "metadata": {},
   "outputs": [
    {
     "data": {
      "text/html": [
       "<div>\n",
       "<style scoped>\n",
       "    .dataframe tbody tr th:only-of-type {\n",
       "        vertical-align: middle;\n",
       "    }\n",
       "\n",
       "    .dataframe tbody tr th {\n",
       "        vertical-align: top;\n",
       "    }\n",
       "\n",
       "    .dataframe thead th {\n",
       "        text-align: right;\n",
       "    }\n",
       "</style>\n",
       "<table border=\"1\" class=\"dataframe\">\n",
       "  <thead>\n",
       "    <tr style=\"text-align: right;\">\n",
       "      <th></th>\n",
       "      <th>first_name</th>\n",
       "      <th>last_name</th>\n",
       "      <th>subject</th>\n",
       "      <th>grade</th>\n",
       "    </tr>\n",
       "  </thead>\n",
       "  <tbody>\n",
       "    <tr>\n",
       "      <th>0</th>\n",
       "      <td>Alice</td>\n",
       "      <td>Johnson</td>\n",
       "      <td>Math</td>\n",
       "      <td>90</td>\n",
       "    </tr>\n",
       "    <tr>\n",
       "      <th>1</th>\n",
       "      <td>Alice</td>\n",
       "      <td>Johnson</td>\n",
       "      <td>English</td>\n",
       "      <td>87</td>\n",
       "    </tr>\n",
       "    <tr>\n",
       "      <th>2</th>\n",
       "      <td>Alice</td>\n",
       "      <td>Johnson</td>\n",
       "      <td>History</td>\n",
       "      <td>87</td>\n",
       "    </tr>\n",
       "    <tr>\n",
       "      <th>3</th>\n",
       "      <td>Bob</td>\n",
       "      <td>Smith</td>\n",
       "      <td>Math</td>\n",
       "      <td>91</td>\n",
       "    </tr>\n",
       "    <tr>\n",
       "      <th>4</th>\n",
       "      <td>Bob</td>\n",
       "      <td>Smith</td>\n",
       "      <td>English</td>\n",
       "      <td>88</td>\n",
       "    </tr>\n",
       "    <tr>\n",
       "      <th>5</th>\n",
       "      <td>Bob</td>\n",
       "      <td>Smith</td>\n",
       "      <td>History</td>\n",
       "      <td>83</td>\n",
       "    </tr>\n",
       "    <tr>\n",
       "      <th>6</th>\n",
       "      <td>Carol</td>\n",
       "      <td>White</td>\n",
       "      <td>Math</td>\n",
       "      <td>79</td>\n",
       "    </tr>\n",
       "    <tr>\n",
       "      <th>7</th>\n",
       "      <td>Carol</td>\n",
       "      <td>White</td>\n",
       "      <td>English</td>\n",
       "      <td>80</td>\n",
       "    </tr>\n",
       "    <tr>\n",
       "      <th>8</th>\n",
       "      <td>Carol</td>\n",
       "      <td>White</td>\n",
       "      <td>History</td>\n",
       "      <td>75</td>\n",
       "    </tr>\n",
       "    <tr>\n",
       "      <th>9</th>\n",
       "      <td>David</td>\n",
       "      <td>Brown</td>\n",
       "      <td>Math</td>\n",
       "      <td>96</td>\n",
       "    </tr>\n",
       "    <tr>\n",
       "      <th>10</th>\n",
       "      <td>David</td>\n",
       "      <td>Brown</td>\n",
       "      <td>English</td>\n",
       "      <td>91</td>\n",
       "    </tr>\n",
       "    <tr>\n",
       "      <th>11</th>\n",
       "      <td>David</td>\n",
       "      <td>Brown</td>\n",
       "      <td>History</td>\n",
       "      <td>90</td>\n",
       "    </tr>\n",
       "    <tr>\n",
       "      <th>12</th>\n",
       "      <td>Eve</td>\n",
       "      <td>Davis</td>\n",
       "      <td>Math</td>\n",
       "      <td>89</td>\n",
       "    </tr>\n",
       "    <tr>\n",
       "      <th>13</th>\n",
       "      <td>Eve</td>\n",
       "      <td>Davis</td>\n",
       "      <td>English</td>\n",
       "      <td>82</td>\n",
       "    </tr>\n",
       "    <tr>\n",
       "      <th>14</th>\n",
       "      <td>Eve</td>\n",
       "      <td>Davis</td>\n",
       "      <td>History</td>\n",
       "      <td>84</td>\n",
       "    </tr>\n",
       "  </tbody>\n",
       "</table>\n",
       "</div>"
      ],
      "text/plain": [
       "   first_name last_name  subject  grade\n",
       "0       Alice   Johnson     Math     90\n",
       "1       Alice   Johnson  English     87\n",
       "2       Alice   Johnson  History     87\n",
       "3         Bob     Smith     Math     91\n",
       "4         Bob     Smith  English     88\n",
       "5         Bob     Smith  History     83\n",
       "6       Carol     White     Math     79\n",
       "7       Carol     White  English     80\n",
       "8       Carol     White  History     75\n",
       "9       David     Brown     Math     96\n",
       "10      David     Brown  English     91\n",
       "11      David     Brown  History     90\n",
       "12        Eve     Davis     Math     89\n",
       "13        Eve     Davis  English     82\n",
       "14        Eve     Davis  History     84"
      ]
     },
     "execution_count": 184,
     "metadata": {},
     "output_type": "execute_result"
    }
   ],
   "source": [
    "students_grades = pd.read_sql_query('''\n",
    "SELECT students.first_name, students.last_name, grades.subject, grades.grade FROM students\n",
    "JOIN grades ON students.student_id = grades.student_id\n",
    "''', conn)\n",
    "students_grades"
   ]
  },
  {
   "cell_type": "code",
   "execution_count": 197,
   "id": "95a0f674-d096-43ac-b0a5-6a318f7b0049",
   "metadata": {},
   "outputs": [
    {
     "data": {
      "image/png": "[encoded data removed]",
      "text/plain": [
       "<Figure size 640x480 with 1 Axes>"
      ]
     },
     "metadata": {},
     "output_type": "display_data"
    }
   ],
   "source": [
    "students_average_grade = pd.read_sql_query('''\n",
    "SELECT students.first_name, students.last_name, AVG(grades.grade) AS average_grade FROM students\n",
    "JOIN grades ON students.student_id = grades.student_id\n",
    "GROUP BY students.first_name, students.last_name\n",
    "''', conn)\n",
    "rows = students_average_grade.values.tolist()\n",
    "student_names = [f\"{row[0]} {row[1]}\" for row in rows]\n",
    "average_grades = [row[2] for row in rows]\n",
    "\n",
    "plt.scatter(student_names, average_grades)\n",
    "plt.xlabel('Students Name')\n",
    "plt.ylabel('Average Grade')\n",
    "plt.title('Average Grade For Each Student')\n",
    "plt.show()"
   ]
  },
  {
   "cell_type": "code",
   "execution_count": 201,
   "id": "a9d8c6b1-aa2c-4b18-b19f-0011bd0a7a71",
   "metadata": {},
   "outputs": [
    {
     "data": {
      "image/png": "[encoded data removed]",
      "text/plain": [
       "<Figure size 640x480 with 1 Axes>"
      ]
     },
     "metadata": {},
     "output_type": "display_data"
    }
   ],
   "source": [
    "students_average_grade = pd.read_sql_query('''\n",
    "SELECT students.first_name, students.last_name, AVG(grades.grade) AS average_grade FROM students\n",
    "JOIN grades ON students.student_id = grades.student_id\n",
    "GROUP BY students.first_name, students.last_name\n",
    "''', conn)\n",
    "rows = students_average_grade.values.tolist()\n",
    "student_names = [f\"{row[0]} {row[1]}\" for row in rows]\n",
    "average_grades = [row[2] for row in rows]\n",
    "\n",
    "plt.bar(student_names, average_grades)\n",
    "plt.xlabel('Students Name')\n",
    "plt.ylabel('Average Grade')\n",
    "plt.title('Average Grade For Each Student')\n",
    "plt.xticks(rotation=45, ha='right')\n",
    "plt.show()"
   ]
  },
  {
   "cell_type": "code",
   "execution_count": null,
   "id": "e0d5f23c-ab59-41cf-bec9-bd67e1a9a2f2",
   "metadata": {},
   "outputs": [],
   "source": []
  }
 ],
 "metadata": {
  "kernelspec": {
   "display_name": "Python 3 (ipykernel)",
   "language": "python",
   "name": "python3"
  },
  "language_info": {
   "codemirror_mode": {
    "name": "ipython",
    "version": 3
   },
   "file_extension": ".py",
   "mimetype": "text/x-python",
   "name": "python",
   "nbconvert_exporter": "python",
   "pygments_lexer": "ipython3",
   "version": "3.12.4"
  }
 },
 "nbformat": 4,
 "nbformat_minor": 5
}
